{
 "cells": [
  {
   "cell_type": "code",
   "execution_count": 34,
   "id": "554b4e80",
   "metadata": {},
   "outputs": [],
   "source": [
    "# Bibliotecas necessárias para o projeto:\n",
    "\n",
    "from PIL import Image\n",
    "import numpy as np\n",
    "import os\n",
    "\n"
   ]
  },
  {
   "cell_type": "code",
   "execution_count": 35,
   "id": "d5caee55",
   "metadata": {},
   "outputs": [],
   "source": [
    "# Criando a função para abrir as imagens do dataset:\n",
    "\n",
    "def open_dataset(path_name = None):\n",
    "    if path_name is None:\n",
    "        path_name = os.path.abspath(os.path.join(os.path.dirname(__file__), os.path.pardir))\n",
    "        path_name = os.path.join(path_name, 'labels.csv')\n",
    "        \n",
    "    dados = np.genfromtxt(path_name. dtype['|S19', '<f8', '|S4'], names = [\n",
    "        'path', 'probability', 'type'])\n",
    "    \n",
    "    image_fnames = np.char.decode(dados['path'])\n",
    "    probs = dados['probability']\n",
    "    types = np.char.decode(dados['type'])\n",
    "    \n",
    "    def carrega_imagens(path_name):  \n",
    "        with Image.open(path_name) as image:\n",
    "            return np.asarray(image)\n",
    "\n",
    "    dir = os.path.dirname(path_name)\n",
    "    \n",
    "    images = np.array([carrega_imagens(os.path.join(dir, fn))\n",
    "                       for fn in image_fnames])\n",
    "\n",
    "    return images, probs, types"
   ]
  },
  {
   "cell_type": "code",
   "execution_count": null,
   "id": "45ac6802",
   "metadata": {},
   "outputs": [],
   "source": [
    "images, proba, types = open_dataset()"
   ]
  }
 ],
 "metadata": {
  "kernelspec": {
   "display_name": "Python 3 (ipykernel)",
   "language": "python",
   "name": "python3"
  },
  "language_info": {
   "codemirror_mode": {
    "name": "ipython",
    "version": 3
   },
   "file_extension": ".py",
   "mimetype": "text/x-python",
   "name": "python",
   "nbconvert_exporter": "python",
   "pygments_lexer": "ipython3",
   "version": "3.9.12"
  }
 },
 "nbformat": 4,
 "nbformat_minor": 5
}
