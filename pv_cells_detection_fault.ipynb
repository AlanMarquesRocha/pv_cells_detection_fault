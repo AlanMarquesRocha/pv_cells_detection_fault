{
 "cells": [
  {
   "cell_type": "code",
   "execution_count": 2,
   "id": "554b4e80",
   "metadata": {},
   "outputs": [],
   "source": [
    "# Bibliotecas necessárias para o projeto:\n",
    "\n",
    "from PIL import Image\n",
    "import numpy as np\n",
    "import os"
   ]
  },
  {
   "cell_type": "code",
   "execution_count": 10,
   "id": "1f4e18f0",
   "metadata": {},
   "outputs": [],
   "source": [
    "# Criando a função para abrir as imagens do dataset:\n",
    "\n",
    "def open_dataset(path_name = None):\n",
    "    if path_name is None:\n",
    "        path_name = os.path.abspath(os.path.join(os.path.dirname(__file__), os.path.pardir))\n",
    "        path_name = os.path.join(path_name, 'labels.csv')\n",
    "        \n",
    "    dados = np.genfromtxt(path_name. dtype['|S19', '<f8', '|S4'], names = [\n",
    "        'path', 'probability', 'type'])\n",
    "    \n",
    "    image_fnames = np.char.decode(data['path'])\n",
    "    probs = data['probability']\n",
    "    types = np.char.decode(data['type'])\n",
    "    \n",
    "    def carrega_imagem(path_name):  \n",
    "        with Image.open(path_name):\n",
    "            return np.asarray(image)\n",
    "\n",
    "    dir = os.path.dirname(fname)\n",
    "    images = np.array([carrega_imagem(os.path.join(dir, fn))\n",
    "                       for fn in dados])\n",
    "\n",
    "    return images, probs, types"
   ]
  },
  {
   "cell_type": "code",
   "execution_count": 11,
   "id": "e8ce27cf",
   "metadata": {},
   "outputs": [
    {
     "ename": "NameError",
     "evalue": "name '__file__' is not defined",
     "output_type": "error",
     "traceback": [
      "\u001b[1;31m---------------------------------------------------------------------------\u001b[0m",
      "\u001b[1;31mNameError\u001b[0m                                 Traceback (most recent call last)",
      "Input \u001b[1;32mIn [11]\u001b[0m, in \u001b[0;36m<cell line: 1>\u001b[1;34m()\u001b[0m\n\u001b[1;32m----> 1\u001b[0m \u001b[43mopen_dataset\u001b[49m\u001b[43m(\u001b[49m\u001b[43m)\u001b[49m\n",
      "Input \u001b[1;32mIn [10]\u001b[0m, in \u001b[0;36mopen_dataset\u001b[1;34m(path_name)\u001b[0m\n\u001b[0;32m      3\u001b[0m \u001b[38;5;28;01mdef\u001b[39;00m \u001b[38;5;21mopen_dataset\u001b[39m(path_name \u001b[38;5;241m=\u001b[39m \u001b[38;5;28;01mNone\u001b[39;00m):\n\u001b[0;32m      4\u001b[0m     \u001b[38;5;28;01mif\u001b[39;00m path_name \u001b[38;5;129;01mis\u001b[39;00m \u001b[38;5;28;01mNone\u001b[39;00m:\n\u001b[1;32m----> 5\u001b[0m         path_name \u001b[38;5;241m=\u001b[39m os\u001b[38;5;241m.\u001b[39mpath\u001b[38;5;241m.\u001b[39mabspath(os\u001b[38;5;241m.\u001b[39mpath\u001b[38;5;241m.\u001b[39mjoin(os\u001b[38;5;241m.\u001b[39mpath\u001b[38;5;241m.\u001b[39mdirname(\u001b[38;5;18;43m__file__\u001b[39;49m), os\u001b[38;5;241m.\u001b[39mpath\u001b[38;5;241m.\u001b[39mpardir))\n\u001b[0;32m      6\u001b[0m         path_name \u001b[38;5;241m=\u001b[39m os\u001b[38;5;241m.\u001b[39mpath\u001b[38;5;241m.\u001b[39mjoin(path_name, \u001b[38;5;124m'\u001b[39m\u001b[38;5;124mlabels.csv\u001b[39m\u001b[38;5;124m'\u001b[39m)\n\u001b[0;32m      8\u001b[0m     dados \u001b[38;5;241m=\u001b[39m np\u001b[38;5;241m.\u001b[39mgenfromtxt(path_name\u001b[38;5;241m.\u001b[39m dtype[\u001b[38;5;124m'\u001b[39m\u001b[38;5;124m|S19\u001b[39m\u001b[38;5;124m'\u001b[39m, \u001b[38;5;124m'\u001b[39m\u001b[38;5;124m<f8\u001b[39m\u001b[38;5;124m'\u001b[39m, \u001b[38;5;124m'\u001b[39m\u001b[38;5;124m|S4\u001b[39m\u001b[38;5;124m'\u001b[39m], names \u001b[38;5;241m=\u001b[39m [\n\u001b[0;32m      9\u001b[0m         \u001b[38;5;124m'\u001b[39m\u001b[38;5;124mpath\u001b[39m\u001b[38;5;124m'\u001b[39m, \u001b[38;5;124m'\u001b[39m\u001b[38;5;124mprobability\u001b[39m\u001b[38;5;124m'\u001b[39m, \u001b[38;5;124m'\u001b[39m\u001b[38;5;124mtype\u001b[39m\u001b[38;5;124m'\u001b[39m])\n",
      "\u001b[1;31mNameError\u001b[0m: name '__file__' is not defined"
     ]
    }
   ],
   "source": [
    "open_dataset()"
   ]
  }
 ],
 "metadata": {
  "kernelspec": {
   "display_name": "Python 3 (ipykernel)",
   "language": "python",
   "name": "python3"
  },
  "language_info": {
   "codemirror_mode": {
    "name": "ipython",
    "version": 3
   },
   "file_extension": ".py",
   "mimetype": "text/x-python",
   "name": "python",
   "nbconvert_exporter": "python",
   "pygments_lexer": "ipython3",
   "version": "3.9.12"
  }
 },
 "nbformat": 4,
 "nbformat_minor": 5
}
