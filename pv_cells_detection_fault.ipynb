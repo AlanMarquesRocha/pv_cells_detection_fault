{
  "cells": [
    {
      "cell_type": "markdown",
      "metadata": {
        "id": "view-in-github",
        "colab_type": "text"
      },
      "source": [
        "<a href=\"https://colab.research.google.com/github/AlanMarquesRocha/pv_cells_detection_fault/blob/main/pv_cells_detection_fault.ipynb\" target=\"_parent\"><img src=\"https://colab.research.google.com/assets/colab-badge.svg\" alt=\"Open In Colab\"/></a>"
      ]
    },
    {
      "cell_type": "markdown",
      "id": "d526d63d",
      "metadata": {
        "id": "d526d63d"
      },
      "source": [
        "### Informações a cerca da base de dados do projeto:\n",
        "\n",
        "A base de dados contém **2.624 imagens de células FVs de 300 x 300 pixels em níveis de cinza (8 bits)**, sendo 1.074 imagens de células de silício monocristalino e 1.550 imagens de células de silício policristalino, extraídas de 44 módulos FVs diferentes.\n",
        "\n",
        "Cada imagem foi rotulada com um número de ponto flutuante que caracteriza a probabilidade de defeito da mesma, podendo variar entre 0 e 1, onde:\n",
        "\n",
        "0 - célula FV sem probabilidade de defeito\n",
        "1 - célula FV com alto grau de probabilidade de defeito.\n",
        "\n",
        "As células são divididas em ``mono`` e ``poly``, representando as células de silício monocristalino e policristalino respectivamente.\n",
        "\n",
        "Pode-se verificar qual tipo de célula estamos trabalhando através do arquivo ``labels.csv``. Neste arquivo, constam as seguintes informações:\n",
        "\n",
        "- nome da imagem (Ex: cell236.png)\n",
        "- grau de defeito (0.0, 1.0, 0.333, 0.666)\n",
        "- tipo de célula (mono ou poly)\n",
        "\n",
        "### Autores que disponibilizaram a base (Citação):\n",
        "\n",
        "> Buerhop-Lutz, C.; Deitsch, S.; Maier, A.; Gallwitz, F.; Berger, S.; Doll, B.; Hauch, J.; Camus, C. & Brabec, C. J. A Benchmark for Visual Identification of Defective Solar Cells in Electroluminescence Imagery. European PV Solar Energy Conference and Exhibition (EU PVSEC), 2018. DOI: [10.4229/35thEUPVSEC20182018-5CV.3.15](http://dx.doi.org/10.4229/35thEUPVSEC20182018-5CV.3.15)\n",
        "\n",
        "> Deitsch, S., Buerhop-Lutz, C., Sovetkin, E., Steland, A., Maier, A., Gallwitz, F., & Riess, C. (2021). Segmentation of photovoltaic module cells in uncalibrated electroluminescence images. Machine Vision and Applications, 32(4). DOI: [10.1007/s00138-021-01191-9](https://doi.org/10.1007/s00138-021-01191-9)\n",
        "\n",
        "> Deitsch, S.; Christlein, V.; Berger, S.; Buerhop-Lutz, C.; Maier, A.; Gallwitz, F. & Riess, C. Automatic classification of defective photovoltaic module cells in electroluminescence images. Solar Energy, Elsevier BV, 2019, 185, 455-468. DOI: [10.1016/j.solener.2019.02.067](http://dx.doi.org/10.1016/j.solener.2019.02.067)\n",
        "\n",
        "BibTeX details:\n",
        "\n",
        "<details>\n",
        "\n",
        "```bibtex\n",
        "\n",
        "@InProceedings{Buerhop2018,\n",
        "  author    = {Buerhop-Lutz, Claudia and Deitsch, Sergiu and Maier, Andreas and Gallwitz, Florian and Berger, Stephan and Doll, Bernd and Hauch, Jens and Camus, Christian and Brabec, Christoph J.},\n",
        "  title     = {A Benchmark for Visual Identification of Defective Solar Cells in Electroluminescence Imagery},\n",
        "  booktitle = {European PV Solar Energy Conference and Exhibition (EU PVSEC)},\n",
        "  year      = {2018},\n",
        "  eventdate = {2018-09-24/2018-09-28},\n",
        "  venue     = {Brussels, Belgium},\n",
        "  doi       = {10.4229/35thEUPVSEC20182018-5CV.3.15},\n",
        "}\n",
        "\n",
        "@Article{Deitsch2021,\n",
        "  author       = {Deitsch, Sergiu and Buerhop-Lutz, Claudia and Sovetkin, Evgenii and Steland, Ansgar and Maier, Andreas and Gallwitz, Florian and Riess, Christian},\n",
        "  date         = {2021},\n",
        "  journaltitle = {Machine Vision and Applications},\n",
        "  title        = {Segmentation of photovoltaic module cells in uncalibrated electroluminescence images},\n",
        "  doi          = {10.1007/s00138-021-01191-9},\n",
        "  issn         = {1432-1769},\n",
        "  number       = {4},\n",
        "  volume       = {32},\n",
        "}\n",
        "\n",
        "@Article{Deitsch2019,\n",
        "  author    = {Sergiu Deitsch and Vincent Christlein and Stephan Berger and Claudia Buerhop-Lutz and Andreas Maier and Florian Gallwitz and Christian Riess},\n",
        "  title     = {Automatic classification of defective photovoltaic module cells in electroluminescence images},\n",
        "  journal   = {Solar Energy},\n",
        "  year      = {2019},\n",
        "  volume    = {185},\n",
        "  pages     = {455--468},\n",
        "  month     = jun,\n",
        "  issn      = {0038-092X},\n",
        "  doi       = {10.1016/j.solener.2019.02.067},\n",
        "  publisher = {Elsevier {BV}},\n",
        "}\n",
        "```"
      ]
    },
    {
      "cell_type": "markdown",
      "source": [
        "### **Importação das bibliotecas necessárias para o projeto**"
      ],
      "metadata": {
        "id": "gf10PgsXGvrT"
      },
      "id": "gf10PgsXGvrT"
    },
    {
      "cell_type": "code",
      "execution_count": 1,
      "id": "c46cd0ba",
      "metadata": {
        "id": "c46cd0ba"
      },
      "outputs": [],
      "source": [
        "# Bibliotecas necessárias para o projeto (Importadas a medida que são utilizadas)\n",
        "\n",
        "from PIL import Image\n",
        "import numpy as np\n",
        "import os\n",
        "import matplotlib.pyplot as plt\n",
        "import cv2\n"
      ]
    },
    {
      "cell_type": "markdown",
      "source": [
        "### **Definindo os métodos para abertura do dataset**"
      ],
      "metadata": {
        "id": "ZSsbm1pGG5LT"
      },
      "id": "ZSsbm1pGG5LT"
    },
    {
      "cell_type": "code",
      "execution_count": 2,
      "id": "3fe34d23",
      "metadata": {
        "id": "3fe34d23"
      },
      "outputs": [],
      "source": [
        "\n",
        "# Função que carrega o dataset completo diretamente do diretório raiz.\n",
        "\n",
        "def load_dataset(fname = None):\n",
        "    if fname is None:\n",
        "        fname = os.path.abspath(os.path.join(os.path.dirname(\"elpv-dataset-master\\elpv-dataset-master\"),\n",
        "                                             os.path.pardir))\n",
        "        fname = os.path.join(fname, 'elpv-dataset-master\\labels.csv')\n",
        "\n",
        "    data = np.genfromtxt(fname, dtype=['|S19', '<f8', '|S4'], names=[\n",
        "                         'path', 'probability', 'type'])\n",
        "    image_fnames = np.char.decode(data['path'])\n",
        "    probs = data['probability']\n",
        "    types = np.char.decode(data['type'])\n",
        "\n",
        "    def load_cell_image(fname):\n",
        "        with Image.open(fname) as image:\n",
        "            return np.asarray(image)\n",
        "\n",
        "    dir = os.path.dirname(fname)\n",
        "    \n",
        "    images = np.array([load_cell_image(os.path.join(dir, fn))\n",
        "                       for fn in image_fnames])\n",
        "\n",
        "    return images, probs, types"
      ]
    },
    {
      "cell_type": "code",
      "execution_count": 3,
      "id": "e69a2eae",
      "metadata": {
        "id": "e69a2eae"
      },
      "outputs": [],
      "source": [
        "\n",
        "\n",
        "# Função que carrega o dataset de células FV monocristalinas diretamente do diretório raiz.\n",
        "\n",
        "def load_dataset_mono(fname_mono = None):\n",
        "    if fname_mono is None:\n",
        "        fname_mono = os.path.abspath(os.path.join(os.path.dirname(\"elpv-dataset-master\\elpv-dataset-master\"),\n",
        "                                             os.path.pardir))\n",
        "        fname_mono = os.path.join(fname_mono, 'elpv-dataset-master\\labels_mono.csv')\n",
        "\n",
        "    data_mono = np.genfromtxt(fname_mono, dtype=['|S19', '<f8', '|S4'], names=[\n",
        "                         'path', 'probability', 'type'])\n",
        "    image_fnames_mono = np.char.decode(data_mono['path'])\n",
        "    probs_mono = data_mono['probability']\n",
        "    types_mono = np.char.decode(data_mono['type'])\n",
        "\n",
        "    def load_cell_image_mono(fname_mono):\n",
        "        with Image.open(fname_mono) as image_mono:\n",
        "            return np.asarray(image_mono)\n",
        "\n",
        "    dir = os.path.dirname(fname_mono)\n",
        "    \n",
        "    images_mono = np.array([load_cell_image_mono(os.path.join(dir, fn))\n",
        "                       for fn in image_fnames_mono])\n",
        "\n",
        "    return images_mono, probs_mono, types_mono"
      ]
    },
    {
      "cell_type": "code",
      "execution_count": 4,
      "id": "30c9b6a2",
      "metadata": {
        "id": "30c9b6a2"
      },
      "outputs": [],
      "source": [
        "\n",
        "#Função que carrega o dataset de células FV polycristalinas diretamente do diretório raiz.\n",
        "\n",
        "def load_dataset_poly(fname_poly = None):\n",
        "    if fname_poly is None:\n",
        "        fname_poly = os.path.abspath(os.path.join(os.path.dirname(\"elpv-dataset-master\\elpv-dataset-master\"),\n",
        "                                             os.path.pardir))\n",
        "        fname_poly = os.path.join(fname_poly, 'elpv-dataset-master\\labels_poly.csv')\n",
        "\n",
        "    data_poly = np.genfromtxt(fname_poly, dtype=['|S19', '<f8', '|S4'], names=[\n",
        "                         'path', 'probability', 'type'])\n",
        "    image_fnames_poly = np.char.decode(data_poly['path'])\n",
        "    probs_poly = data_poly['probability']\n",
        "    types_poly = np.char.decode(data_poly['type'])\n",
        "\n",
        "    def load_cell_image_poly(fname_poly):\n",
        "        with Image.open(fname_poly) as image_poly:\n",
        "            return np.asarray(image_poly)\n",
        "\n",
        "    dir = os.path.dirname(fname_poly)\n",
        "    \n",
        "    images_poly = np.array([load_cell_image_poly(os.path.join(dir, fn))\n",
        "                       for fn in image_fnames_poly])\n",
        "\n",
        "    return images_poly, probs_poly, types_poly"
      ]
    },
    {
      "cell_type": "code",
      "execution_count": 7,
      "id": "1cdd52d5",
      "metadata": {
        "id": "1cdd52d5",
        "outputId": "560ebb3b-4e59-49e0-f36f-d2e58dabb186",
        "colab": {
          "base_uri": "https://localhost:8080/",
          "height": 381
        }
      },
      "outputs": [
        {
          "output_type": "error",
          "ename": "OSError",
          "evalue": "ignored",
          "traceback": [
            "\u001b[0;31m---------------------------------------------------------------------------\u001b[0m",
            "\u001b[0;31mOSError\u001b[0m                                   Traceback (most recent call last)",
            "\u001b[0;32m<ipython-input-7-654b2ef6280d>\u001b[0m in \u001b[0;36m<module>\u001b[0;34m\u001b[0m\n\u001b[1;32m      1\u001b[0m \u001b[0;31m# Chamando a função para leitura das imagens do dataset completo.\u001b[0m\u001b[0;34m\u001b[0m\u001b[0;34m\u001b[0m\u001b[0;34m\u001b[0m\u001b[0m\n\u001b[0;32m----> 2\u001b[0;31m \u001b[0mimages\u001b[0m\u001b[0;34m,\u001b[0m \u001b[0mproba\u001b[0m\u001b[0;34m,\u001b[0m \u001b[0mtypes\u001b[0m \u001b[0;34m=\u001b[0m \u001b[0mload_dataset\u001b[0m\u001b[0;34m(\u001b[0m\u001b[0;34m)\u001b[0m\u001b[0;34m\u001b[0m\u001b[0;34m\u001b[0m\u001b[0m\n\u001b[0m\u001b[1;32m      3\u001b[0m \u001b[0;34m\u001b[0m\u001b[0m\n\u001b[1;32m      4\u001b[0m \u001b[0;31m# Chamando a função para leitura das imagens do dataset de células monocristalinas [1 - 1073].\u001b[0m\u001b[0;34m\u001b[0m\u001b[0;34m\u001b[0m\u001b[0;34m\u001b[0m\u001b[0m\n\u001b[1;32m      5\u001b[0m \u001b[0mimages_mono\u001b[0m\u001b[0;34m,\u001b[0m \u001b[0mproba_mono\u001b[0m\u001b[0;34m,\u001b[0m \u001b[0mtypes_mono\u001b[0m \u001b[0;34m=\u001b[0m \u001b[0mload_dataset_mono\u001b[0m\u001b[0;34m(\u001b[0m\u001b[0;34m)\u001b[0m\u001b[0;34m\u001b[0m\u001b[0;34m\u001b[0m\u001b[0m\n",
            "\u001b[0;32m<ipython-input-2-b9f4c7251bbc>\u001b[0m in \u001b[0;36mload_dataset\u001b[0;34m(fname)\u001b[0m\n\u001b[1;32m      8\u001b[0m \u001b[0;34m\u001b[0m\u001b[0m\n\u001b[1;32m      9\u001b[0m     data = np.genfromtxt(fname, dtype=['|S19', '<f8', '|S4'], names=[\n\u001b[0;32m---> 10\u001b[0;31m                          'path', 'probability', 'type'])\n\u001b[0m\u001b[1;32m     11\u001b[0m     \u001b[0mimage_fnames\u001b[0m \u001b[0;34m=\u001b[0m \u001b[0mnp\u001b[0m\u001b[0;34m.\u001b[0m\u001b[0mchar\u001b[0m\u001b[0;34m.\u001b[0m\u001b[0mdecode\u001b[0m\u001b[0;34m(\u001b[0m\u001b[0mdata\u001b[0m\u001b[0;34m[\u001b[0m\u001b[0;34m'path'\u001b[0m\u001b[0;34m]\u001b[0m\u001b[0;34m)\u001b[0m\u001b[0;34m\u001b[0m\u001b[0;34m\u001b[0m\u001b[0m\n\u001b[1;32m     12\u001b[0m     \u001b[0mprobs\u001b[0m \u001b[0;34m=\u001b[0m \u001b[0mdata\u001b[0m\u001b[0;34m[\u001b[0m\u001b[0;34m'probability'\u001b[0m\u001b[0;34m]\u001b[0m\u001b[0;34m\u001b[0m\u001b[0;34m\u001b[0m\u001b[0m\n",
            "\u001b[0;32m/usr/local/lib/python3.7/dist-packages/numpy/lib/npyio.py\u001b[0m in \u001b[0;36mgenfromtxt\u001b[0;34m(fname, dtype, comments, delimiter, skip_header, skip_footer, converters, missing_values, filling_values, usecols, names, excludelist, deletechars, replace_space, autostrip, case_sensitive, defaultfmt, unpack, usemask, loose, invalid_raise, max_rows, encoding, like)\u001b[0m\n\u001b[1;32m   1791\u001b[0m             \u001b[0mfname\u001b[0m \u001b[0;34m=\u001b[0m \u001b[0mos_fspath\u001b[0m\u001b[0;34m(\u001b[0m\u001b[0mfname\u001b[0m\u001b[0;34m)\u001b[0m\u001b[0;34m\u001b[0m\u001b[0;34m\u001b[0m\u001b[0m\n\u001b[1;32m   1792\u001b[0m         \u001b[0;32mif\u001b[0m \u001b[0misinstance\u001b[0m\u001b[0;34m(\u001b[0m\u001b[0mfname\u001b[0m\u001b[0;34m,\u001b[0m \u001b[0mstr\u001b[0m\u001b[0;34m)\u001b[0m\u001b[0;34m:\u001b[0m\u001b[0;34m\u001b[0m\u001b[0;34m\u001b[0m\u001b[0m\n\u001b[0;32m-> 1793\u001b[0;31m             \u001b[0mfid\u001b[0m \u001b[0;34m=\u001b[0m \u001b[0mnp\u001b[0m\u001b[0;34m.\u001b[0m\u001b[0mlib\u001b[0m\u001b[0;34m.\u001b[0m\u001b[0m_datasource\u001b[0m\u001b[0;34m.\u001b[0m\u001b[0mopen\u001b[0m\u001b[0;34m(\u001b[0m\u001b[0mfname\u001b[0m\u001b[0;34m,\u001b[0m \u001b[0;34m'rt'\u001b[0m\u001b[0;34m,\u001b[0m \u001b[0mencoding\u001b[0m\u001b[0;34m=\u001b[0m\u001b[0mencoding\u001b[0m\u001b[0;34m)\u001b[0m\u001b[0;34m\u001b[0m\u001b[0;34m\u001b[0m\u001b[0m\n\u001b[0m\u001b[1;32m   1794\u001b[0m             \u001b[0mfid_ctx\u001b[0m \u001b[0;34m=\u001b[0m \u001b[0mcontextlib\u001b[0m\u001b[0;34m.\u001b[0m\u001b[0mclosing\u001b[0m\u001b[0;34m(\u001b[0m\u001b[0mfid\u001b[0m\u001b[0;34m)\u001b[0m\u001b[0;34m\u001b[0m\u001b[0;34m\u001b[0m\u001b[0m\n\u001b[1;32m   1795\u001b[0m         \u001b[0;32melse\u001b[0m\u001b[0;34m:\u001b[0m\u001b[0;34m\u001b[0m\u001b[0;34m\u001b[0m\u001b[0m\n",
            "\u001b[0;32m/usr/local/lib/python3.7/dist-packages/numpy/lib/_datasource.py\u001b[0m in \u001b[0;36mopen\u001b[0;34m(path, mode, destpath, encoding, newline)\u001b[0m\n\u001b[1;32m    191\u001b[0m \u001b[0;34m\u001b[0m\u001b[0m\n\u001b[1;32m    192\u001b[0m     \u001b[0mds\u001b[0m \u001b[0;34m=\u001b[0m \u001b[0mDataSource\u001b[0m\u001b[0;34m(\u001b[0m\u001b[0mdestpath\u001b[0m\u001b[0;34m)\u001b[0m\u001b[0;34m\u001b[0m\u001b[0;34m\u001b[0m\u001b[0m\n\u001b[0;32m--> 193\u001b[0;31m     \u001b[0;32mreturn\u001b[0m \u001b[0mds\u001b[0m\u001b[0;34m.\u001b[0m\u001b[0mopen\u001b[0m\u001b[0;34m(\u001b[0m\u001b[0mpath\u001b[0m\u001b[0;34m,\u001b[0m \u001b[0mmode\u001b[0m\u001b[0;34m,\u001b[0m \u001b[0mencoding\u001b[0m\u001b[0;34m=\u001b[0m\u001b[0mencoding\u001b[0m\u001b[0;34m,\u001b[0m \u001b[0mnewline\u001b[0m\u001b[0;34m=\u001b[0m\u001b[0mnewline\u001b[0m\u001b[0;34m)\u001b[0m\u001b[0;34m\u001b[0m\u001b[0;34m\u001b[0m\u001b[0m\n\u001b[0m\u001b[1;32m    194\u001b[0m \u001b[0;34m\u001b[0m\u001b[0m\n\u001b[1;32m    195\u001b[0m \u001b[0;34m\u001b[0m\u001b[0m\n",
            "\u001b[0;32m/usr/local/lib/python3.7/dist-packages/numpy/lib/_datasource.py\u001b[0m in \u001b[0;36mopen\u001b[0;34m(self, path, mode, encoding, newline)\u001b[0m\n\u001b[1;32m    531\u001b[0m                                       encoding=encoding, newline=newline)\n\u001b[1;32m    532\u001b[0m         \u001b[0;32melse\u001b[0m\u001b[0;34m:\u001b[0m\u001b[0;34m\u001b[0m\u001b[0;34m\u001b[0m\u001b[0m\n\u001b[0;32m--> 533\u001b[0;31m             \u001b[0;32mraise\u001b[0m \u001b[0mIOError\u001b[0m\u001b[0;34m(\u001b[0m\u001b[0;34m\"%s not found.\"\u001b[0m \u001b[0;34m%\u001b[0m \u001b[0mpath\u001b[0m\u001b[0;34m)\u001b[0m\u001b[0;34m\u001b[0m\u001b[0;34m\u001b[0m\u001b[0m\n\u001b[0m\u001b[1;32m    534\u001b[0m \u001b[0;34m\u001b[0m\u001b[0m\n\u001b[1;32m    535\u001b[0m \u001b[0;34m\u001b[0m\u001b[0m\n",
            "\u001b[0;31mOSError\u001b[0m: /elpv-dataset-master\\labels.csv not found."
          ]
        }
      ],
      "source": [
        "\n",
        "# Chamando a função para leitura das imagens do dataset completo.\n",
        "images, proba, types = load_dataset()\n",
        "\n",
        "# Chamando a função para leitura das imagens do dataset de células monocristalinas [1 - 1073].\n",
        "images_mono, proba_mono, types_mono = load_dataset_mono()\n",
        "\n",
        "# Chamando a função para leitura das imagens do dataset de células policristalinas [1 - 1549].\n",
        "images_poly, proba_poly, types_poly = load_dataset_poly()"
      ]
    },
    {
      "cell_type": "code",
      "execution_count": 6,
      "id": "b8728c2b",
      "metadata": {
        "id": "b8728c2b",
        "outputId": "6bdae42c-7290-419e-f7e0-40e814a14e3f",
        "colab": {
          "base_uri": "https://localhost:8080/",
          "height": 166
        }
      },
      "outputs": [
        {
          "output_type": "error",
          "ename": "NameError",
          "evalue": "ignored",
          "traceback": [
            "\u001b[0;31m---------------------------------------------------------------------------\u001b[0m",
            "\u001b[0;31mNameError\u001b[0m                                 Traceback (most recent call last)",
            "\u001b[0;32m<ipython-input-6-6ac630f21e83>\u001b[0m in \u001b[0;36m<module>\u001b[0;34m\u001b[0m\n\u001b[0;32m----> 1\u001b[0;31m \u001b[0mimg\u001b[0m \u001b[0;34m=\u001b[0m \u001b[0mimages_mono\u001b[0m\u001b[0;34m[\u001b[0m\u001b[0;36m10\u001b[0m\u001b[0;34m]\u001b[0m\u001b[0;34m\u001b[0m\u001b[0;34m\u001b[0m\u001b[0m\n\u001b[0m",
            "\u001b[0;31mNameError\u001b[0m: name 'images_mono' is not defined"
          ]
        }
      ],
      "source": [
        "img = images_mono[10]"
      ]
    }
  ],
  "metadata": {
    "kernelspec": {
      "display_name": "Python 3 (ipykernel)",
      "language": "python",
      "name": "python3"
    },
    "language_info": {
      "codemirror_mode": {
        "name": "ipython",
        "version": 3
      },
      "file_extension": ".py",
      "mimetype": "text/x-python",
      "name": "python",
      "nbconvert_exporter": "python",
      "pygments_lexer": "ipython3",
      "version": "3.9.12"
    },
    "colab": {
      "provenance": [],
      "include_colab_link": true
    }
  },
  "nbformat": 4,
  "nbformat_minor": 5
}