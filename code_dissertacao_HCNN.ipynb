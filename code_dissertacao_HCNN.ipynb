{
  "nbformat": 4,
  "nbformat_minor": 0,
  "metadata": {
    "colab": {
      "provenance": [],
      "authorship_tag": "ABX9TyNU76JukVZx6SkUAgHXCOU8",
      "include_colab_link": true
    },
    "kernelspec": {
      "name": "python3",
      "display_name": "Python 3"
    },
    "language_info": {
      "name": "python"
    }
  },
  "cells": [
    {
      "cell_type": "markdown",
      "metadata": {
        "id": "view-in-github",
        "colab_type": "text"
      },
      "source": [
        "<a href=\"https://colab.research.google.com/github/AlanMarquesRocha/pv_cells_detection_fault/blob/main/code_dissertacao_HCNN.ipynb\" target=\"_parent\"><img src=\"https://colab.research.google.com/assets/colab-badge.svg\" alt=\"Open In Colab\"/></a>"
      ]
    },
    {
      "cell_type": "markdown",
      "source": [
        "# **Programa de Pós-graduação em Engenharia Elétrica e Computação (PPGEEC/UFC)**\n",
        "\n",
        "## Tema: ``Otimização dos Hiperparâmetros de uma Rede Neural Convolucional Híbrida Utilizando Algoritmos Genéticos para Classificação de Defeitos em Imagens Eletroluminescentes de Células Fotovoltaicas``.\n",
        "\n",
        "### **Divisão do Projeto:**\n",
        "\n",
        "0. Importação das Bibliotecas e Acesso à Base de Dados das Imagens;\n",
        "\n",
        "1. Data augmentation _offiline_ (rotação, espelhamento, borramento e aumento de brilho);\n",
        "\n",
        "2. Aplicação da Técnica ``CLAHE`` para melhorar o contraste das imagens em EL;\n",
        "\n",
        "3. Ajuste fino dos hiperparâmetros da CNN por Algoritmos Genéticos;\n",
        "\n",
        "4. Implementação da Máquina de Vetor de Suporte para iniciar o processo de classificação dos defeitos;\n",
        "\n",
        "5. Análise dos resultados.\n",
        "\n"
      ],
      "metadata": {
        "id": "5-wZQhKQtXmn"
      }
    },
    {
      "cell_type": "code",
      "execution_count": null,
      "metadata": {
        "id": "dWAdxm1Kbd66"
      },
      "outputs": [],
      "source": []
    }
  ]
}