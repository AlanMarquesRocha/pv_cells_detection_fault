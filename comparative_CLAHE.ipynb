{
  "nbformat": 4,
  "nbformat_minor": 0,
  "metadata": {
    "colab": {
      "provenance": [],
      "authorship_tag": "ABX9TyNNHgMgYYK1p/jkSfbKEp4A",
      "include_colab_link": true
    },
    "kernelspec": {
      "name": "python3",
      "display_name": "Python 3"
    },
    "language_info": {
      "name": "python"
    }
  },
  "cells": [
    {
      "cell_type": "markdown",
      "metadata": {
        "id": "view-in-github",
        "colab_type": "text"
      },
      "source": [
        "<a href=\"https://colab.research.google.com/github/AlanMarquesRocha/pv_cells_detection_fault/blob/main/comparative_CLAHE.ipynb\" target=\"_parent\"><img src=\"https://colab.research.google.com/assets/colab-badge.svg\" alt=\"Open In Colab\"/></a>"
      ]
    },
    {
      "cell_type": "markdown",
      "source": [
        "#**Contrast Limited Adaptive Histogram Equalization for Detecting Faults in Photovoltaic Cells**\n",
        "\n",
        "#### O projeto está dividido nas seguintes etapas:\n",
        "\n",
        "  1. Implementação da técnica ``CLAHE`` para melhoria do contraste das imagens EL de células FVs de silício mono e policristalino.\n",
        "  2. Apresentar o histograma de Intensidade de Pixel;\n",
        "  3. Comparação Visual dos resultados obtidos;\n",
        "  4. Apresentar o gráfico de Contraste Local para análise da Média e Desvio Padrão do Contraste Local.\n",
        "  5. Discussão dos Resultados Obtidos."
      ],
      "metadata": {
        "id": "g5UvWcgpK41c"
      }
    },
    {
      "cell_type": "markdown",
      "source": [
        "## **Importação das Bibliotecas necessárias para o projeto**\n",
        "\n",
        "As células a seguir são responsáveis por receber as bibliotecas necessárias para a implementação do projeto."
      ],
      "metadata": {
        "id": "W9VWWib8L8DR"
      }
    },
    {
      "cell_type": "markdown",
      "source": [
        "### **Bibliotecas necessárias para a abertura da base de dados e ligação do Google Drive com o Colab**"
      ],
      "metadata": {
        "id": "Gv-llNR_L-4a"
      }
    },
    {
      "cell_type": "code",
      "execution_count": 1,
      "metadata": {
        "colab": {
          "base_uri": "https://localhost:8080/"
        },
        "id": "91Z2Vhh1J84t",
        "outputId": "627fa1b1-dfd4-4bb3-f2f8-8b10088f287a"
      },
      "outputs": [
        {
          "output_type": "stream",
          "name": "stdout",
          "text": [
            "Mounted at /content/gdrive\n"
          ]
        }
      ],
      "source": [
        "import glob\n",
        "from skimage import io\n",
        "from google.colab import drive\n",
        "drive.mount('/content/gdrive')"
      ]
    },
    {
      "cell_type": "markdown",
      "source": [
        "### **Bibliotecas necessárias para a manipulação de dados, vetores, strings, plotagem de imagens, etc.**"
      ],
      "metadata": {
        "id": "AFyWqBapME7G"
      }
    },
    {
      "cell_type": "code",
      "source": [
        "import numpy as np\n",
        "from matplotlib import pyplot as plt\n",
        "import seaborn as sns\n",
        "import pandas as pd\n",
        "import random"
      ],
      "metadata": {
        "id": "3-Xw6N8MMIwf"
      },
      "execution_count": 2,
      "outputs": []
    },
    {
      "cell_type": "markdown",
      "source": [
        "### **Bibliotecas necessárias para a normalização em 8-bits e implementação da técnica CLAHE**"
      ],
      "metadata": {
        "id": "24SHwKGiMJci"
      }
    },
    {
      "cell_type": "code",
      "source": [
        "import cv2\n",
        "from skimage.color import rgb2gray\n",
        "from PIL import Image\n",
        "import albumentations as A\n",
        "import os"
      ],
      "metadata": {
        "id": "1aj1s4PQMNzg"
      },
      "execution_count": 3,
      "outputs": []
    },
    {
      "cell_type": "markdown",
      "source": [
        "## **Seção 0 - Acesso à Base de Dados**\n",
        "\n",
        "Acessando as imagens e copiando para um diretório temporário no GDrive."
      ],
      "metadata": {
        "id": "qoecS37NEXtY"
      }
    },
    {
      "cell_type": "code",
      "source": [
        "# Realiza a cópia da pasta com as imagens para o ambiente colab chamado teste_CLAHE\n",
        "!cp -R /content/gdrive/MyDrive/_code_dissertacao/clahe_test/ /content/teste_CLAHE\n",
        "\n",
        "print('Operaçao finalizada')"
      ],
      "metadata": {
        "colab": {
          "base_uri": "https://localhost:8080/"
        },
        "id": "qk5QU0VmEbHm",
        "outputId": "b3acc46e-675b-4268-861e-4444dacfe0f0"
      },
      "execution_count": 4,
      "outputs": [
        {
          "output_type": "stream",
          "name": "stdout",
          "text": [
            "Operaçao finalizada\n"
          ]
        }
      ]
    },
    {
      "cell_type": "code",
      "source": [
        "# Carregando a imagem original e processada.\n",
        "\n",
        "original_img = cv2.imread('/content/teste_CLAHE/img_poly_clahe.png')\n",
        "\n",
        "processed_img = cv2.imread('/content/teste_CLAHE/img_poly_original.png')"
      ],
      "metadata": {
        "id": "KfLxT1SDE4Mv"
      },
      "execution_count": 5,
      "outputs": []
    },
    {
      "cell_type": "markdown",
      "source": [
        "## **Seção 1 - Processando as imagens**"
      ],
      "metadata": {
        "id": "ueqQBGpPFjDb"
      }
    },
    {
      "cell_type": "code",
      "source": [],
      "metadata": {
        "id": "kdmpJNKEFo-t"
      },
      "execution_count": null,
      "outputs": []
    }
  ]
}