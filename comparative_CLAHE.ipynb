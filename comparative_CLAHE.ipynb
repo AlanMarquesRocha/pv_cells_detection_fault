{
  "nbformat": 4,
  "nbformat_minor": 0,
  "metadata": {
    "colab": {
      "provenance": [],
      "authorship_tag": "ABX9TyNKlNAgI1w0PguUW0QZq1Jg",
      "include_colab_link": true
    },
    "kernelspec": {
      "name": "python3",
      "display_name": "Python 3"
    },
    "language_info": {
      "name": "python"
    }
  },
  "cells": [
    {
      "cell_type": "markdown",
      "metadata": {
        "id": "view-in-github",
        "colab_type": "text"
      },
      "source": [
        "<a href=\"https://colab.research.google.com/github/AlanMarquesRocha/pv_cells_detection_fault/blob/main/comparative_CLAHE.ipynb\" target=\"_parent\"><img src=\"https://colab.research.google.com/assets/colab-badge.svg\" alt=\"Open In Colab\"/></a>"
      ]
    },
    {
      "cell_type": "markdown",
      "source": [
        "#**Contrast Limited Adaptive Histogram Equalization for Detecting Faults in Photovoltaic Cells**\n",
        "\n",
        "#### O projeto está dividido nas seguintes etapas:\n",
        "\n",
        "  1. Implementação da técnica CLAHE para melhoria do contraste das imagens EL de células FVs de silício mono e policristalino.\n",
        "  2. Apresentar o histograma de Intensidade de Pixel;\n",
        "  3. Comparação Visual dos resultados obtidos;\n",
        "  4. Apresentar o gráfico de Contraste Local para análise da Média e Desvio Padrão do Contraste Local.\n",
        "  5. Discussão dos Resultados Obtidos."
      ],
      "metadata": {
        "id": "g5UvWcgpK41c"
      }
    },
    {
      "cell_type": "markdown",
      "source": [
        "## **Importação das Bibliotecas necessárias para o projeto**\n",
        "\n",
        "As células a seguir são responsáveis por receber as bibliotecas necessárias para a implementação do projeto."
      ],
      "metadata": {
        "id": "W9VWWib8L8DR"
      }
    },
    {
      "cell_type": "markdown",
      "source": [
        "### **Bibliotecas necessárias para a abertura da base de dados e ligação do Google Drive com o Colab**"
      ],
      "metadata": {
        "id": "Gv-llNR_L-4a"
      }
    },
    {
      "cell_type": "code",
      "execution_count": null,
      "metadata": {
        "id": "91Z2Vhh1J84t"
      },
      "outputs": [],
      "source": []
    },
    {
      "cell_type": "markdown",
      "source": [
        "### **Bibliotecas necessárias para a manipulação de dados, vetores, strings, plotagem de imagens, etc.**"
      ],
      "metadata": {
        "id": "AFyWqBapME7G"
      }
    },
    {
      "cell_type": "code",
      "source": [],
      "metadata": {
        "id": "3-Xw6N8MMIwf"
      },
      "execution_count": null,
      "outputs": []
    },
    {
      "cell_type": "markdown",
      "source": [
        "### **Bibliotecas necessárias para a normalização em 8-bits e implementação da técnica CLAHE**"
      ],
      "metadata": {
        "id": "24SHwKGiMJci"
      }
    },
    {
      "cell_type": "code",
      "source": [],
      "metadata": {
        "id": "1aj1s4PQMNzg"
      },
      "execution_count": null,
      "outputs": []
    }
  ]
}