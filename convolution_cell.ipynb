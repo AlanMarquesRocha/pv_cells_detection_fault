{
  "nbformat": 4,
  "nbformat_minor": 0,
  "metadata": {
    "colab": {
      "provenance": [],
      "authorship_tag": "ABX9TyNg6WCnYzklCMJ5kn58TN2I",
      "include_colab_link": true
    },
    "kernelspec": {
      "name": "python3",
      "display_name": "Python 3"
    },
    "language_info": {
      "name": "python"
    }
  },
  "cells": [
    {
      "cell_type": "markdown",
      "metadata": {
        "id": "view-in-github",
        "colab_type": "text"
      },
      "source": [
        "<a href=\"https://colab.research.google.com/github/AlanMarquesRocha/pv_cells_detection_fault/blob/main/convolution_cell.ipynb\" target=\"_parent\"><img src=\"https://colab.research.google.com/assets/colab-badge.svg\" alt=\"Open In Colab\"/></a>"
      ]
    },
    {
      "cell_type": "code",
      "execution_count": null,
      "metadata": {
        "id": "tt19JO8iC2Zi"
      },
      "outputs": [],
      "source": [
        "#**REDE NEURAL CONVOLUCIONAL HÍBRIDA PARA DETECÇÃO E CLASSIFICAÇÃO DE DEFEITOS EM IMAGENS ELETROLUMINESCENTES DE CÉLULAS FOTOVOLTAICAS**\n",
        "\n",
        "\n",
        "#### O projeto está dividido nas seguintes etapas:\n",
        "\n",
        "- **Pré-Processamento**:\n",
        "  - Normalização da base em 8-bits ✅\n",
        "  - <s>Aplicação do Filtro Gaussiano Bilateral</s> ✅\n",
        "  - Descritor de Texturas LBP ✅"
      ]
    }
  ]
}