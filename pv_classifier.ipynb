{
  "nbformat": 4,
  "nbformat_minor": 0,
  "metadata": {
    "colab": {
      "provenance": [],
      "authorship_tag": "ABX9TyPjnW6nXeekHeTz2X64FiQO",
      "include_colab_link": true
    },
    "kernelspec": {
      "name": "python3",
      "display_name": "Python 3"
    },
    "language_info": {
      "name": "python"
    }
  },
  "cells": [
    {
      "cell_type": "markdown",
      "metadata": {
        "id": "view-in-github",
        "colab_type": "text"
      },
      "source": [
        "<a href=\"https://colab.research.google.com/github/AlanMarquesRocha/pv_cells_detection_fault/blob/main/pv_classifier.ipynb\" target=\"_parent\"><img src=\"https://colab.research.google.com/assets/colab-badge.svg\" alt=\"Open In Colab\"/></a>"
      ]
    },
    {
      "cell_type": "code",
      "execution_count": 11,
      "metadata": {
        "id": "Lc4KC02aCEyk"
      },
      "outputs": [],
      "source": [
        "from PIL import Image\n",
        "import numpy as np\n",
        "import os\n",
        "from skimage.color import rgb2gray"
      ]
    },
    {
      "cell_type": "code",
      "source": [
        "import pandas as pd\n",
        "from matplotlib import pyplot as plt\n",
        "import cv2\n",
        "from tqdm import tqdm\n",
        "import tensorflow as tf\n",
        "import keras\n",
        "from keras.models import Sequential\n",
        "from keras.layers import Dense, Dropout, Activation, Flatten\n",
        "from keras.layers import Conv2D, MaxPooling2D\n",
        "\n",
        "\n",
        "from sklearn.metrics import confusion_matrix, classification_report\n",
        "from sklearn.model_selection import StratifiedKFold\n",
        "\n",
        "\n",
        "tf.__version__"
      ],
      "metadata": {
        "colab": {
          "base_uri": "https://localhost:8080/",
          "height": 36
        },
        "id": "E7jMXUOjCiNP",
        "outputId": "22e1aee1-c6ca-48ae-bb79-00ec59939b4f"
      },
      "execution_count": 3,
      "outputs": [
        {
          "output_type": "execute_result",
          "data": {
            "text/plain": [
              "'2.12.0'"
            ],
            "application/vnd.google.colaboratory.intrinsic+json": {
              "type": "string"
            }
          },
          "metadata": {},
          "execution_count": 3
        }
      ]
    },
    {
      "cell_type": "code",
      "source": [
        "import seaborn\n",
        "import random\n",
        "from skimage import io\n",
        "import glob"
      ],
      "metadata": {
        "id": "y42XOZNDDKjM"
      },
      "execution_count": 8,
      "outputs": []
    },
    {
      "cell_type": "code",
      "source": [
        "from google.colab import drive\n",
        "drive.mount('/content/gdrive')\n"
      ],
      "metadata": {
        "colab": {
          "base_uri": "https://localhost:8080/"
        },
        "id": "xMhGY56_C_yA",
        "outputId": "746bc99a-36c6-4a1b-f8db-1c862f64d351"
      },
      "execution_count": 5,
      "outputs": [
        {
          "output_type": "stream",
          "name": "stdout",
          "text": [
            "Mounted at /content/gdrive\n"
          ]
        }
      ]
    },
    {
      "cell_type": "code",
      "source": [
        "# Realiza a cópia de uma pasta específica do drive no ambiente colab:\n",
        "# O comando abaixo realiza uma cópia das imagens que serão utilizadas no projeto.\n",
        "\n",
        "# cópia as imagens do dataset para uma pasta específica do drive\n",
        "!cp -R /content/gdrive/MyDrive/_ppgeec_mestrado/2022_2/code_implementation pv_classifier/\n"
      ],
      "metadata": {
        "id": "OU-9QbI3EY0C"
      },
      "execution_count": 7,
      "outputs": []
    },
    {
      "cell_type": "code",
      "source": [
        "def load_dataset(fname=None):\n",
        "    if fname is None:\n",
        "        # Assume we are in the utils folder and get the absolute path to the\n",
        "        # parent directory.\n",
        "        fname = os.path.abspath(os.path.join(os.path.dirname(\"/content/pv_classifier\"),\n",
        "                                             os.path.pardir))\n",
        "        fname = os.path.join(fname, '/content/pv_classifier/labels.csv')\n",
        "\n",
        "    data = np.genfromtxt(fname, dtype=['|S19', '<f8', '|S4'], names=[\n",
        "                         'path', 'probability', 'type'])\n",
        "    image_fnames = np.char.decode(data['path'])\n",
        "    probs = data['probability']\n",
        "    types = np.char.decode(data['type'])\n",
        "\n",
        "    def load_cell_image(fname):\n",
        "        with Image.open(fname) as image:\n",
        "            return np.asarray(image)\n",
        "\n",
        "    dir = os.path.dirname(fname)\n",
        "    \n",
        "    images = np.array([load_cell_image(os.path.join(dir, fn))\n",
        "                       for fn in image_fnames])\n",
        "\n",
        "    return images, probs, types"
      ],
      "metadata": {
        "id": "NdDYUWckHqkt"
      },
      "execution_count": 13,
      "outputs": []
    }
  ]
}